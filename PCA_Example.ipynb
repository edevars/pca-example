{
 "cells": [
  {
   "cell_type": "markdown",
   "metadata": {},
   "source": [
    "### Agregando nuestras dependencias"
   ]
  },
  {
   "cell_type": "code",
   "execution_count": 14,
   "metadata": {},
   "outputs": [],
   "source": [
    "import numpy as np \n",
    "import pandas as pd \n",
    "import matplotlib as mpl\n",
    "import matplotlib.pyplot as plt"
   ]
  },
  {
   "cell_type": "markdown",
   "metadata": {},
   "source": [
    "### Importando nuestro dataframe"
   ]
  },
  {
   "cell_type": "code",
   "execution_count": 15,
   "metadata": {},
   "outputs": [
    {
     "data": {
      "text/html": [
       "<div>\n",
       "<style scoped>\n",
       "    .dataframe tbody tr th:only-of-type {\n",
       "        vertical-align: middle;\n",
       "    }\n",
       "\n",
       "    .dataframe tbody tr th {\n",
       "        vertical-align: top;\n",
       "    }\n",
       "\n",
       "    .dataframe thead th {\n",
       "        text-align: right;\n",
       "    }\n",
       "</style>\n",
       "<table border=\"1\" class=\"dataframe\">\n",
       "  <thead>\n",
       "    <tr style=\"text-align: right;\">\n",
       "      <th></th>\n",
       "      <th>Empresa</th>\n",
       "      <th>Precio</th>\n",
       "      <th>N_pepp</th>\n",
       "    </tr>\n",
       "  </thead>\n",
       "  <tbody>\n",
       "    <tr>\n",
       "      <th>0</th>\n",
       "      <td>Feedbug</td>\n",
       "      <td>14.08</td>\n",
       "      <td>8.10</td>\n",
       "    </tr>\n",
       "    <tr>\n",
       "      <th>1</th>\n",
       "      <td>Dabtype</td>\n",
       "      <td>9.76</td>\n",
       "      <td>4.30</td>\n",
       "    </tr>\n",
       "    <tr>\n",
       "      <th>2</th>\n",
       "      <td>Ntag</td>\n",
       "      <td>4.89</td>\n",
       "      <td>2.20</td>\n",
       "    </tr>\n",
       "    <tr>\n",
       "      <th>3</th>\n",
       "      <td>Twimm</td>\n",
       "      <td>7.71</td>\n",
       "      <td>4.30</td>\n",
       "    </tr>\n",
       "    <tr>\n",
       "      <th>4</th>\n",
       "      <td>Youfeed</td>\n",
       "      <td>5.34</td>\n",
       "      <td>3.16</td>\n",
       "    </tr>\n",
       "  </tbody>\n",
       "</table>\n",
       "</div>"
      ],
      "text/plain": [
       "   Empresa  Precio  N_pepp\n",
       "0  Feedbug   14.08    8.10\n",
       "1  Dabtype    9.76    4.30\n",
       "2     Ntag    4.89    2.20\n",
       "3    Twimm    7.71    4.30\n",
       "4  Youfeed    5.34    3.16"
      ]
     },
     "execution_count": 15,
     "metadata": {},
     "output_type": "execute_result"
    }
   ],
   "source": [
    "df = pd.read_csv(\"pizza.csv\")\n",
    "df.head()"
   ]
  },
  {
   "cell_type": "markdown",
   "metadata": {},
   "source": [
    "### Removiendo la columna de marca"
   ]
  },
  {
   "cell_type": "code",
   "execution_count": 16,
   "metadata": {},
   "outputs": [
    {
     "data": {
      "text/html": [
       "<div>\n",
       "<style scoped>\n",
       "    .dataframe tbody tr th:only-of-type {\n",
       "        vertical-align: middle;\n",
       "    }\n",
       "\n",
       "    .dataframe tbody tr th {\n",
       "        vertical-align: top;\n",
       "    }\n",
       "\n",
       "    .dataframe thead th {\n",
       "        text-align: right;\n",
       "    }\n",
       "</style>\n",
       "<table border=\"1\" class=\"dataframe\">\n",
       "  <thead>\n",
       "    <tr style=\"text-align: right;\">\n",
       "      <th></th>\n",
       "      <th>Precio</th>\n",
       "      <th>N_pepp</th>\n",
       "    </tr>\n",
       "  </thead>\n",
       "  <tbody>\n",
       "    <tr>\n",
       "      <th>0</th>\n",
       "      <td>14.08</td>\n",
       "      <td>8.10</td>\n",
       "    </tr>\n",
       "    <tr>\n",
       "      <th>1</th>\n",
       "      <td>9.76</td>\n",
       "      <td>4.30</td>\n",
       "    </tr>\n",
       "    <tr>\n",
       "      <th>2</th>\n",
       "      <td>4.89</td>\n",
       "      <td>2.20</td>\n",
       "    </tr>\n",
       "    <tr>\n",
       "      <th>3</th>\n",
       "      <td>7.71</td>\n",
       "      <td>4.30</td>\n",
       "    </tr>\n",
       "    <tr>\n",
       "      <th>4</th>\n",
       "      <td>5.34</td>\n",
       "      <td>3.16</td>\n",
       "    </tr>\n",
       "  </tbody>\n",
       "</table>\n",
       "</div>"
      ],
      "text/plain": [
       "   Precio  N_pepp\n",
       "0   14.08    8.10\n",
       "1    9.76    4.30\n",
       "2    4.89    2.20\n",
       "3    7.71    4.30\n",
       "4    5.34    3.16"
      ]
     },
     "execution_count": 16,
     "metadata": {},
     "output_type": "execute_result"
    }
   ],
   "source": [
    "df = df.drop(['Empresa'], axis=1)\n",
    "df.head()"
   ]
  },
  {
   "cell_type": "markdown",
   "metadata": {},
   "source": [
    "### Gráfica de nuestro DF"
   ]
  },
  {
   "cell_type": "code",
   "execution_count": 17,
   "metadata": {},
   "outputs": [
    {
     "data": {
      "image/png": "[encoded data removed]",
      "text/plain": [
       "<Figure size 432x288 with 1 Axes>"
      ]
     },
     "metadata": {
      "needs_background": "light"
     },
     "output_type": "display_data"
    }
   ],
   "source": [
    "df.plot(kind='scatter',x='Precio',y='N_pepp',color='blue')\n",
    "plt.grid(True, which='both')\n",
    "plt.show()"
   ]
  },
  {
   "cell_type": "markdown",
   "metadata": {},
   "source": [
    "### Estandarizando el dataframe"
   ]
  },
  {
   "cell_type": "code",
   "execution_count": 18,
   "metadata": {},
   "outputs": [
    {
     "data": {
      "text/plain": [
       "array([[ 1.2081948 ,  1.57752299],\n",
       "       [-0.16677926, -0.56953552],\n",
       "       [-1.71680788, -1.75606786],\n",
       "       [-0.81925537, -0.56953552],\n",
       "       [-1.57358142, -1.21365307],\n",
       "       [ 1.12225892,  0.84300297],\n",
       "       [-0.64420081, -0.1175232 ],\n",
       "       [ 0.2533517 , -0.06102166],\n",
       "       [-1.60859233, -1.69956632],\n",
       "       [ 0.95356997,  1.06900913],\n",
       "       [ 0.64165456, -0.00452012],\n",
       "       [ 0.67984828,  0.50399373],\n",
       "       [-1.13753641, -0.79554168],\n",
       "       [ 0.23743765,  0.44749219],\n",
       "       [-0.46914624,  0.1649845 ],\n",
       "       [ 1.11271049,  1.12551067],\n",
       "       [ 1.20501199,  1.69052607],\n",
       "       [ 1.09679643,  0.67349835],\n",
       "       [ 0.43477189,  0.05198142],\n",
       "       [-0.80970694, -1.36055708]])"
      ]
     },
     "execution_count": 18,
     "metadata": {},
     "output_type": "execute_result"
    }
   ],
   "source": [
    "from sklearn.preprocessing import StandardScaler\n",
    "df_std = StandardScaler().fit_transform(df)\n",
    "df_std"
   ]
  },
  {
   "cell_type": "markdown",
   "metadata": {},
   "source": [
    "### Gráfico estandarizado"
   ]
  },
  {
   "cell_type": "code",
   "execution_count": 19,
   "metadata": {},
   "outputs": [
    {
     "data": {
      "image/png": "[encoded data removed]",
      "text/plain": [
       "<Figure size 432x288 with 1 Axes>"
      ]
     },
     "metadata": {
      "needs_background": "light"
     },
     "output_type": "display_data"
    }
   ],
   "source": [
    "x_axis = [x[0] for x in df_std]\n",
    "y_axis = [y[1] for y in df_std]\n",
    "\n",
    "plt.scatter(x_axis, y_axis, alpha=0.5)\n",
    "plt.grid(True, which='both')\n",
    "plt.show()"
   ]
  },
  {
   "cell_type": "markdown",
   "metadata": {},
   "source": [
    "### Cálculo de la matriz de covarianza"
   ]
  },
  {
   "cell_type": "markdown",
   "metadata": {},
   "source": [
    "Esta es una matriz asimétrica que en la diagonal contiene la varianza(x) en y en los demás elementos contiene la covarianza(x,y)"
   ]
  },
  {
   "cell_type": "code",
   "execution_count": 20,
   "metadata": {},
   "outputs": [
    {
     "data": {
      "text/plain": [
       "array([[1.05263158, 0.97777429],\n",
       "       [0.97777429, 1.05263158]])"
      ]
     },
     "execution_count": 20,
     "metadata": {},
     "output_type": "execute_result"
    }
   ],
   "source": [
    "df_cov_matrix = np.cov(df_std.T)\n",
    "df_cov_matrix"
   ]
  },
  {
   "cell_type": "markdown",
   "metadata": {},
   "source": [
    "### Calculando eigenvectores y eigenvalores"
   ]
  },
  {
   "cell_type": "code",
   "execution_count": 21,
   "metadata": {},
   "outputs": [
    {
     "name": "stdout",
     "output_type": "stream",
     "text": [
      "Eigenvectores \n",
      " [[ 0.70710678 -0.70710678]\n",
      " [ 0.70710678  0.70710678]]\n",
      "Eigenvalores \n",
      " [2.03040587 0.07485729]\n",
      "[ 1.43571376 -1.43571376]\n",
      "[0.0529321 0.0529321]\n"
     ]
    },
    {
     "data": {
      "image/png": "[encoded data removed]",
      "text/plain": [
       "<Figure size 432x288 with 1 Axes>"
      ]
     },
     "metadata": {
      "needs_background": "light"
     },
     "output_type": "display_data"
    }
   ],
   "source": [
    "eig_vals, eig_vecs = np.linalg.eig(df_cov_matrix)\n",
    "\n",
    "print('Eigenvectores \\n', eig_vecs)\n",
    "print('Eigenvalores \\n', eig_vals)\n",
    "\n",
    "first_eigencomposition = eig_vecs[0]*eig_vals[0]\n",
    "second_eigencomposition = eig_vecs[1]*eig_vals[1]\n",
    "\n",
    "print(first_eigencomposition)\n",
    "print(second_eigencomposition)\n",
    "\n",
    "x_axis = [first_eigencomposition[0], second_eigencomposition[0]]\n",
    "y_axis = [first_eigencomposition[1], second_eigencomposition[1]]\n",
    "\n",
    "plt.plot(x_axis,y_axis,'ro')\n",
    "plt.grid(True, which='both')\n",
    "plt.show()\n"
   ]
  },
  {
   "cell_type": "markdown",
   "metadata": {},
   "source": [
    "### Varianza acumulada en cada componente"
   ]
  },
  {
   "cell_type": "code",
   "execution_count": 22,
   "metadata": {},
   "outputs": [
    {
     "name": "stdout",
     "output_type": "stream",
     "text": [
      "Varianza de cada componente \n",
      "\n",
      "0.9644427870697965\n",
      "0.03555721293020358\n",
      "\n",
      "Varianza acumulada mientras avanzamos en cada componente \n",
      "\n",
      "0.9644427870697965\n",
      "1.0\n"
     ]
    }
   ],
   "source": [
    "total = sum(eig_vals)\n",
    "var_exp = [(i / total) for i in sorted(eig_vals, reverse=True)]\n",
    "cum_var_exp = np.cumsum(var_exp)\n",
    "print(\"Varianza de cada componente \\n\")\n",
    "p = [print(v) for v in var_exp]\n",
    "print(\"\\nVarianza acumulada mientras avanzamos en cada componente \\n\")\n",
    "p = [print(v) for v in cum_var_exp]"
   ]
  },
  {
   "cell_type": "markdown",
   "metadata": {},
   "source": [
    "### Gráfica de varianza acumulada por cada componente"
   ]
  },
  {
   "cell_type": "code",
   "execution_count": 23,
   "metadata": {},
   "outputs": [
    {
     "name": "stdout",
     "output_type": "stream",
     "text": [
      "[0.96444279 1.        ]\n"
     ]
    },
    {
     "data": {
      "image/png": "[encoded data removed]",
      "text/plain": [
       "<Figure size 432x288 with 1 Axes>"
      ]
     },
     "metadata": {
      "needs_background": "light"
     },
     "output_type": "display_data"
    }
   ],
   "source": [
    "from sklearn.decomposition import PCA\n",
    "pca = PCA().fit(df_std)\n",
    "print(np.cumsum(pca.explained_variance_ratio_))\n",
    "plt.plot(np.cumsum(pca.explained_variance_ratio_*100))\n",
    "plt.xlabel('No de componentes')\n",
    "plt.ylabel('Varianza acumulada')\n",
    "plt.show()"
   ]
  },
  {
   "cell_type": "markdown",
   "metadata": {},
   "source": [
    "### Creando analisis de 1 sola componente"
   ]
  },
  {
   "cell_type": "code",
   "execution_count": 24,
   "metadata": {},
   "outputs": [
    {
     "name": "stdout",
     "output_type": "stream",
     "text": [
      "[[-1.96979994]\n",
      " [ 0.52065317]\n",
      " [ 2.45569399]\n",
      " [ 0.98202346]\n",
      " [ 1.97087241]\n",
      " [-1.38965001]\n",
      " [ 0.53862021]\n",
      " [-0.13599787]\n",
      " [ 2.33922141]\n",
      " [-1.4301794 ]\n",
      " [-0.45052208]\n",
      " [-0.83710272]\n",
      " [ 1.36689262]\n",
      " [-0.48431854]\n",
      " [ 0.21507483]\n",
      " [-1.58266136]\n",
      " [-2.04745459]\n",
      " [-1.25178745]\n",
      " [-0.34418656]\n",
      " [ 1.53460841]]\n"
     ]
    },
    {
     "data": {
      "text/html": [
       "<div>\n",
       "<style scoped>\n",
       "    .dataframe tbody tr th:only-of-type {\n",
       "        vertical-align: middle;\n",
       "    }\n",
       "\n",
       "    .dataframe tbody tr th {\n",
       "        vertical-align: top;\n",
       "    }\n",
       "\n",
       "    .dataframe thead th {\n",
       "        text-align: right;\n",
       "    }\n",
       "</style>\n",
       "<table border=\"1\" class=\"dataframe\">\n",
       "  <thead>\n",
       "    <tr style=\"text-align: right;\">\n",
       "      <th></th>\n",
       "      <th>PC1</th>\n",
       "      <th>Empresa</th>\n",
       "    </tr>\n",
       "  </thead>\n",
       "  <tbody>\n",
       "    <tr>\n",
       "      <th>0</th>\n",
       "      <td>-1.969800</td>\n",
       "      <td>Feedbug</td>\n",
       "    </tr>\n",
       "    <tr>\n",
       "      <th>1</th>\n",
       "      <td>0.520653</td>\n",
       "      <td>Dabtype</td>\n",
       "    </tr>\n",
       "    <tr>\n",
       "      <th>2</th>\n",
       "      <td>2.455694</td>\n",
       "      <td>Ntag</td>\n",
       "    </tr>\n",
       "    <tr>\n",
       "      <th>3</th>\n",
       "      <td>0.982023</td>\n",
       "      <td>Twimm</td>\n",
       "    </tr>\n",
       "    <tr>\n",
       "      <th>4</th>\n",
       "      <td>1.970872</td>\n",
       "      <td>Youfeed</td>\n",
       "    </tr>\n",
       "    <tr>\n",
       "      <th>5</th>\n",
       "      <td>-1.389650</td>\n",
       "      <td>Gigashots</td>\n",
       "    </tr>\n",
       "    <tr>\n",
       "      <th>6</th>\n",
       "      <td>0.538620</td>\n",
       "      <td>Innojam</td>\n",
       "    </tr>\n",
       "    <tr>\n",
       "      <th>7</th>\n",
       "      <td>-0.135998</td>\n",
       "      <td>Meevee</td>\n",
       "    </tr>\n",
       "    <tr>\n",
       "      <th>8</th>\n",
       "      <td>2.339221</td>\n",
       "      <td>Vinte</td>\n",
       "    </tr>\n",
       "    <tr>\n",
       "      <th>9</th>\n",
       "      <td>-1.430179</td>\n",
       "      <td>Jaxbean</td>\n",
       "    </tr>\n",
       "    <tr>\n",
       "      <th>10</th>\n",
       "      <td>-0.450522</td>\n",
       "      <td>Quinu</td>\n",
       "    </tr>\n",
       "    <tr>\n",
       "      <th>11</th>\n",
       "      <td>-0.837103</td>\n",
       "      <td>Tazzy</td>\n",
       "    </tr>\n",
       "    <tr>\n",
       "      <th>12</th>\n",
       "      <td>1.366893</td>\n",
       "      <td>Skidoo</td>\n",
       "    </tr>\n",
       "    <tr>\n",
       "      <th>13</th>\n",
       "      <td>-0.484319</td>\n",
       "      <td>Dynabox</td>\n",
       "    </tr>\n",
       "    <tr>\n",
       "      <th>14</th>\n",
       "      <td>0.215075</td>\n",
       "      <td>Blogspan</td>\n",
       "    </tr>\n",
       "    <tr>\n",
       "      <th>15</th>\n",
       "      <td>-1.582661</td>\n",
       "      <td>Yabox</td>\n",
       "    </tr>\n",
       "    <tr>\n",
       "      <th>16</th>\n",
       "      <td>-2.047455</td>\n",
       "      <td>Voomm</td>\n",
       "    </tr>\n",
       "    <tr>\n",
       "      <th>17</th>\n",
       "      <td>-1.251787</td>\n",
       "      <td>Oodoo</td>\n",
       "    </tr>\n",
       "    <tr>\n",
       "      <th>18</th>\n",
       "      <td>-0.344187</td>\n",
       "      <td>Oyonder</td>\n",
       "    </tr>\n",
       "    <tr>\n",
       "      <th>19</th>\n",
       "      <td>1.534608</td>\n",
       "      <td>Feedfire</td>\n",
       "    </tr>\n",
       "  </tbody>\n",
       "</table>\n",
       "</div>"
      ],
      "text/plain": [
       "         PC1    Empresa\n",
       "0  -1.969800    Feedbug\n",
       "1   0.520653    Dabtype\n",
       "2   2.455694       Ntag\n",
       "3   0.982023      Twimm\n",
       "4   1.970872    Youfeed\n",
       "5  -1.389650  Gigashots\n",
       "6   0.538620    Innojam\n",
       "7  -0.135998     Meevee\n",
       "8   2.339221      Vinte\n",
       "9  -1.430179    Jaxbean\n",
       "10 -0.450522      Quinu\n",
       "11 -0.837103      Tazzy\n",
       "12  1.366893     Skidoo\n",
       "13 -0.484319    Dynabox\n",
       "14  0.215075   Blogspan\n",
       "15 -1.582661      Yabox\n",
       "16 -2.047455      Voomm\n",
       "17 -1.251787      Oodoo\n",
       "18 -0.344187    Oyonder\n",
       "19  1.534608   Feedfire"
      ]
     },
     "execution_count": 24,
     "metadata": {},
     "output_type": "execute_result"
    }
   ],
   "source": [
    "from sklearn.decomposition import PCA\n",
    "\n",
    "df1 = pd.read_csv(\"pizza.csv\")\n",
    "\n",
    "pca = PCA(n_components = 1)\n",
    "pcs = pca.fit_transform(df_std)\n",
    "print(pcs)\n",
    "df_new = pd.DataFrame(data=pcs, columns={'PC1'})\n",
    "\n",
    "df_new['Empresa'] = df1['Empresa'] \n",
    "df_new"
   ]
  }
 ],
 "metadata": {
  "kernelspec": {
   "display_name": "Python 3",
   "language": "python",
   "name": "python3"
  },
  "language_info": {
   "codemirror_mode": {
    "name": "ipython",
    "version": 3
   },
   "file_extension": ".py",
   "mimetype": "text/x-python",
   "name": "python",
   "nbconvert_exporter": "python",
   "pygments_lexer": "ipython3",
   "version": "3.8.5"
  }
 },
 "nbformat": 4,
 "nbformat_minor": 4
}
